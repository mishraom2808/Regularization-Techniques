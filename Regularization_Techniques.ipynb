{
  "nbformat": 4,
  "nbformat_minor": 0,
  "metadata": {
    "colab": {
      "name": "Regularization Techniques.ipynb",
      "provenance": [],
      "collapsed_sections": []
    },
    "kernelspec": {
      "name": "python3",
      "display_name": "Python 3"
    },
    "language_info": {
      "name": "python"
    }
  },
  "cells": [
    {
      "cell_type": "code",
      "execution_count": null,
      "metadata": {
        "colab": {
          "base_uri": "https://localhost:8080/"
        },
        "id": "YpdJGkCHKZMe",
        "outputId": "e7a69f9e-8a60-4860-e495-46b678524d85"
      },
      "outputs": [
        {
          "output_type": "stream",
          "name": "stdout",
          "text": [
            "Libraries Imported\n"
          ]
        }
      ],
      "source": [
        "from keras.models import Sequential\n",
        "from keras.layers import Dense, Dropout, Flatten, Conv2D, MaxPool2D, ZeroPadding2D\n",
        "from tensorflow.keras.optimizers import Adam, SGD\n",
        "from keras.preprocessing.image import ImageDataGenerator\n",
        "from keras import regularizers\n",
        "from keras.utils.np_utils import to_categorical \n",
        "from keras.callbacks import EarlyStopping\n",
        "from keras.datasets import cifar10\n",
        "import matplotlib.pyplot as plt\n",
        "import tensorflow as tf\n",
        "\n",
        "print('Libraries Imported')"
      ]
    },
    {
      "cell_type": "code",
      "source": [
        "(X_train, y_train), (X_test, y_test) = cifar10.load_data()"
      ],
      "metadata": {
        "colab": {
          "base_uri": "https://localhost:8080/"
        },
        "id": "Q4Nez-sFKwqM",
        "outputId": "d5434a8b-6972-4d65-f8d2-46db839e8183"
      },
      "execution_count": null,
      "outputs": [
        {
          "output_type": "stream",
          "name": "stdout",
          "text": [
            "Downloading data from https://www.cs.toronto.edu/~kriz/cifar-10-python.tar.gz\n",
            "170500096/170498071 [==============================] - 3s 0us/step\n",
            "170508288/170498071 [==============================] - 3s 0us/step\n"
          ]
        }
      ]
    },
    {
      "cell_type": "code",
      "source": [
        "## Label Encoding\n",
        "# convert to one-hot-encoding\n",
        "y_train = to_categorical(y_train)\n",
        "y_test = to_categorical(y_test)\n",
        "print('Converted into one-hot-encoding')\n",
        "print('y_train shape: ', y_train.shape)\n",
        "print('y_test shape: ', y_test.shape)\n",
        "\n",
        "# As we see after one-hot-encoding the shape of our label changes to [num_of_rows, 10]\n",
        "# 10 because we have 10 categories i.e [airplane, automobile, bird, cat, deer, dog, frog, horse, ship, truck]"
      ],
      "metadata": {
        "colab": {
          "base_uri": "https://localhost:8080/"
        },
        "id": "sjjl5r-TK1t3",
        "outputId": "0b8b8c88-869c-499b-be8c-34925dc088e0"
      },
      "execution_count": null,
      "outputs": [
        {
          "output_type": "stream",
          "name": "stdout",
          "text": [
            "Converted into one-hot-encoding\n",
            "y_train shape:  (50000, 10)\n",
            "y_test shape:  (10000, 10)\n"
          ]
        }
      ]
    },
    {
      "cell_type": "code",
      "source": [
        "# Normalize the data\n",
        "X_train = X_train / 255.0\n",
        "X_test = X_test / 255.0\n",
        "\n",
        "print('X_train shape: ', X_train.shape)\n",
        "print('X_test shape: ', X_test.shape)\n",
        "\n",
        "# Here we are dividing our actual values from 255.0 so we get all the new values near to 1\n",
        "# Hence making calcualtions easy and fast"
      ],
      "metadata": {
        "colab": {
          "base_uri": "https://localhost:8080/"
        },
        "id": "q8Y5hlafK6Qf",
        "outputId": "555dae5b-dbfb-4105-d328-1a8037bdbb7c"
      },
      "execution_count": null,
      "outputs": [
        {
          "output_type": "stream",
          "name": "stdout",
          "text": [
            "X_train shape:  (50000, 32, 32, 3)\n",
            "X_test shape:  (10000, 32, 32, 3)\n"
          ]
        }
      ]
    },
    {
      "cell_type": "code",
      "source": [
        "callback = tf.keras.callbacks.EarlyStopping(monitor='accuracy', patience=5)"
      ],
      "metadata": {
        "id": "Aa_Z3hOdK9X5"
      },
      "execution_count": null,
      "outputs": []
    },
    {
      "cell_type": "code",
      "source": [
        "model = Sequential()\n",
        "\n",
        "model.add(Conv2D(filters = 64, kernel_size = (3,3), activation = 'relu', input_shape = (32,32,3), padding='same'))\n",
        "model.add(MaxPool2D(pool_size=(3,3)))\n",
        "model.add(Dropout(0.25))\n",
        "\n",
        "\n",
        "model.add(Conv2D(filters = 128, kernel_size= (3,3), activation='relu', padding='same'))\n",
        "model.add(MaxPool2D(pool_size=(3,3)))\n",
        "model.add(Dropout(0.3))\n",
        "\n",
        "#fully connected\n",
        "model.add(Flatten(input_shape=(32,32,3)))\n",
        "model.add(Dense(4096, activation = 'relu', kernel_regularizer=regularizers.l2(0.01)))\n",
        "model.add(Dense(4096, activation = 'relu', kernel_regularizer=regularizers.l2(0.01)))\n",
        "# output layer, 10 because we have total 10 categories\n",
        "model.add(Dense(10, activation = 'softmax'))"
      ],
      "metadata": {
        "id": "tDI0jA3rK9aN"
      },
      "execution_count": null,
      "outputs": []
    },
    {
      "cell_type": "code",
      "source": [
        "# Define optimizer\n",
        "optimizer = Adam(learning_rate = 0.001)\n",
        "optimizer2 = SGD(learning_rate = 0.001, momentum=0.9, nesterov=True)"
      ],
      "metadata": {
        "id": "B6fPqsR6K9cZ"
      },
      "execution_count": null,
      "outputs": []
    },
    {
      "cell_type": "code",
      "source": [
        "#Compile the model\n",
        "model.compile(optimizer = optimizer2, loss = 'categorical_crossentropy', metrics=['accuracy'])\n",
        "epochs = 30 # for better result increase the epochs\n",
        "batch_size = 200\n",
        "datagen = ImageDataGenerator(\n",
        "    rotation_range= 5, # randomly rotate images in the range 5 degrees\n",
        "    zoom_range = 0.1, # Randomly zoom image 10%\n",
        "    width_shift_range=0.1, # randomly shift images horizontally 10%\n",
        "    height_shift_range=0.1, # randomly shift images vertically 10%\n",
        "    horizontal_flip = True,\n",
        "    vertical_flip = True\n",
        ")\n",
        "\n",
        "datagen.fit(X_train)\n",
        "history = model.fit(datagen.flow(X_train, y_train),\n",
        "                    epochs = epochs, validation_data = (X_test, y_test),\n",
        "                    steps_per_epoch=X_train.shape[0] // batch_size, callbacks = [callback])"
      ],
      "metadata": {
        "colab": {
          "base_uri": "https://localhost:8080/"
        },
        "id": "dWGAX2CqK9er",
        "outputId": "94e181ef-3639-4b77-c9ea-2761236d7043"
      },
      "execution_count": null,
      "outputs": [
        {
          "output_type": "stream",
          "name": "stdout",
          "text": [
            "Epoch 1/30\n",
            "250/250 [==============================] - 132s 526ms/step - loss: 58.5630 - accuracy: 0.1150 - val_loss: 55.7796 - val_accuracy: 0.1888\n",
            "Epoch 2/30\n",
            "250/250 [==============================] - 128s 513ms/step - loss: 53.1870 - accuracy: 0.1437 - val_loss: 50.6497 - val_accuracy: 0.1786\n",
            "Epoch 3/30\n",
            "250/250 [==============================] - 132s 528ms/step - loss: 48.2845 - accuracy: 0.1801 - val_loss: 45.9575 - val_accuracy: 0.2213\n",
            "Epoch 4/30\n",
            "250/250 [==============================] - 134s 536ms/step - loss: 43.8154 - accuracy: 0.2053 - val_loss: 41.7085 - val_accuracy: 0.2116\n",
            "Epoch 5/30\n",
            "250/250 [==============================] - 130s 521ms/step - loss: 39.8115 - accuracy: 0.2175 - val_loss: 37.9113 - val_accuracy: 0.2344\n",
            "Epoch 6/30\n",
            "250/250 [==============================] - 123s 493ms/step - loss: 36.1987 - accuracy: 0.2278 - val_loss: 34.4890 - val_accuracy: 0.2541\n",
            "Epoch 7/30\n",
            "250/250 [==============================] - 122s 489ms/step - loss: 32.9292 - accuracy: 0.2387 - val_loss: 31.3697 - val_accuracy: 0.2624\n",
            "Epoch 8/30\n",
            "250/250 [==============================] - 128s 510ms/step - loss: 29.9869 - accuracy: 0.2445 - val_loss: 28.5818 - val_accuracy: 0.2554\n",
            "Epoch 9/30\n",
            "250/250 [==============================] - 126s 505ms/step - loss: 27.3043 - accuracy: 0.2540 - val_loss: 26.0498 - val_accuracy: 0.2683\n",
            "Epoch 10/30\n",
            "250/250 [==============================] - 127s 507ms/step - loss: 24.8734 - accuracy: 0.2598 - val_loss: 23.7035 - val_accuracy: 0.2763\n",
            "Epoch 11/30\n",
            "250/250 [==============================] - 128s 514ms/step - loss: 22.6819 - accuracy: 0.2663 - val_loss: 21.6194 - val_accuracy: 0.2836\n",
            "Epoch 12/30\n",
            "250/250 [==============================] - 126s 505ms/step - loss: 20.6880 - accuracy: 0.2824 - val_loss: 19.6990 - val_accuracy: 0.3139\n",
            "Epoch 13/30\n",
            "250/250 [==============================] - 127s 510ms/step - loss: 18.8919 - accuracy: 0.2822 - val_loss: 17.9775 - val_accuracy: 0.3110\n",
            "Epoch 14/30\n",
            "250/250 [==============================] - 126s 505ms/step - loss: 17.2401 - accuracy: 0.3081 - val_loss: 16.4177 - val_accuracy: 0.3138\n",
            "Epoch 15/30\n",
            "250/250 [==============================] - 128s 510ms/step - loss: 15.7729 - accuracy: 0.3100 - val_loss: 15.0141 - val_accuracy: 0.3336\n",
            "Epoch 16/30\n",
            "250/250 [==============================] - 129s 515ms/step - loss: 14.4348 - accuracy: 0.3140 - val_loss: 13.7579 - val_accuracy: 0.3309\n",
            "Epoch 17/30\n",
            "250/250 [==============================] - 124s 497ms/step - loss: 13.2142 - accuracy: 0.3260 - val_loss: 12.5944 - val_accuracy: 0.3596\n",
            "Epoch 18/30\n",
            "250/250 [==============================] - 123s 493ms/step - loss: 12.1356 - accuracy: 0.3186 - val_loss: 11.5645 - val_accuracy: 0.3497\n",
            "Epoch 19/30\n",
            "250/250 [==============================] - 124s 496ms/step - loss: 11.1406 - accuracy: 0.3232 - val_loss: 10.6069 - val_accuracy: 0.3686\n",
            "Epoch 20/30\n",
            "250/250 [==============================] - 124s 497ms/step - loss: 10.2586 - accuracy: 0.3284 - val_loss: 9.7737 - val_accuracy: 0.3643\n",
            "Epoch 21/30\n",
            "250/250 [==============================] - 123s 492ms/step - loss: 9.4402 - accuracy: 0.3384 - val_loss: 8.9926 - val_accuracy: 0.3731\n",
            "Epoch 22/30\n",
            "250/250 [==============================] - 124s 496ms/step - loss: 8.6991 - accuracy: 0.3391 - val_loss: 8.2942 - val_accuracy: 0.3739\n",
            "Epoch 23/30\n",
            "250/250 [==============================] - 124s 495ms/step - loss: 8.0487 - accuracy: 0.3458 - val_loss: 7.6782 - val_accuracy: 0.3600\n",
            "Epoch 24/30\n",
            "250/250 [==============================] - 123s 493ms/step - loss: 7.4538 - accuracy: 0.3470 - val_loss: 7.0988 - val_accuracy: 0.3723\n",
            "Epoch 25/30\n",
            "250/250 [==============================] - 124s 494ms/step - loss: 6.9130 - accuracy: 0.3509 - val_loss: 6.5807 - val_accuracy: 0.3871\n",
            "Epoch 26/30\n",
            "250/250 [==============================] - 124s 494ms/step - loss: 6.4057 - accuracy: 0.3537 - val_loss: 6.1367 - val_accuracy: 0.3751\n",
            "Epoch 27/30\n",
            "250/250 [==============================] - 123s 492ms/step - loss: 5.9558 - accuracy: 0.3674 - val_loss: 5.7014 - val_accuracy: 0.3757\n",
            "Epoch 28/30\n",
            "250/250 [==============================] - 124s 496ms/step - loss: 5.5586 - accuracy: 0.3573 - val_loss: 5.3171 - val_accuracy: 0.3661\n",
            "Epoch 29/30\n",
            "250/250 [==============================] - 124s 498ms/step - loss: 5.1903 - accuracy: 0.3676 - val_loss: 4.9598 - val_accuracy: 0.3894\n",
            "Epoch 30/30\n",
            "250/250 [==============================] - 125s 500ms/step - loss: 4.8531 - accuracy: 0.3741 - val_loss: 4.6863 - val_accuracy: 0.3636\n"
          ]
        }
      ]
    },
    {
      "cell_type": "code",
      "source": [
        "# Plot the loss and accuracy curves for training and validation\n",
        "plt.plot(history.history['val_loss'], color='b', label='validation loss')\n",
        "plt.title('Test Loss')\n",
        "plt.xlabel('Number of Epochs')\n",
        "plt.ylabel('Loss')\n",
        "plt.legend()\n",
        "plt.show()"
      ],
      "metadata": {
        "colab": {
          "base_uri": "https://localhost:8080/",
          "height": 295
        },
        "id": "oHqMOK6NK9hm",
        "outputId": "5d85b922-db3f-4212-f47d-d5376449671d"
      },
      "execution_count": null,
      "outputs": [
        {
          "output_type": "display_data",
          "data": {
            "text/plain": [
              "<Figure size 432x288 with 1 Axes>"
            ],
            "image/png": "[encoded data removed]"
          },
          "metadata": {
            "needs_background": "light"
          }
        }
      ]
    },
    {
      "cell_type": "code",
      "source": [
        "# evaluate the model\n",
        "train_mse = model.evaluate(X_train, y_train, verbose=0)\n",
        "test_mse = model.evaluate(X_test, y_test, verbose=0)\n",
        "print('Train loss : %.3f %% , Test loss : %.3f %%' % (train_mse[0]*100, test_mse[0]*100))\n",
        "print('Train accuracy : %.3f %% , Test accuracy : %.3f %%' % (train_mse[1]*100, test_mse[1]*100))"
      ],
      "metadata": {
        "colab": {
          "base_uri": "https://localhost:8080/"
        },
        "id": "clhoMPmJK9j4",
        "outputId": "ac0166e7-d186-42f1-e3bb-3dd963b25c3c"
      },
      "execution_count": null,
      "outputs": [
        {
          "output_type": "stream",
          "name": "stdout",
          "text": [
            "Train loss : 469.423 % , Test loss : 468.629 %\n",
            "Train accuracy : 35.780 % , Test accuracy : 36.360 %\n"
          ]
        }
      ]
    }
  ]
}